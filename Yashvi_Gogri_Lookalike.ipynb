{
  "nbformat": 4,
  "nbformat_minor": 0,
  "metadata": {
    "colab": {
      "provenance": []
    },
    "kernelspec": {
      "name": "python3",
      "display_name": "Python 3"
    },
    "language_info": {
      "name": "python"
    }
  },
  "cells": [
    {
      "cell_type": "code",
      "source": [
        "import pandas as pd\n",
        "from sklearn.preprocessing import StandardScaler\n",
        "from sklearn.metrics.pairwise import cosine_similarity"
      ],
      "metadata": {
        "id": "-etc_sHMYhpa"
      },
      "execution_count": 1,
      "outputs": []
    },
    {
      "cell_type": "markdown",
      "source": [
        "Loading the datasets"
      ],
      "metadata": {
        "id": "APW41ZfRYtBm"
      }
    },
    {
      "cell_type": "code",
      "source": [
        "customers = pd.read_csv('/content/Customers.csv')\n",
        "products = pd.read_csv('/content/Products.csv')\n",
        "transactions = pd.read_csv('/content/Transactions.csv')"
      ],
      "metadata": {
        "id": "TBmpw0DcYj6B"
      },
      "execution_count": 2,
      "outputs": []
    },
    {
      "cell_type": "code",
      "source": [
        "# Rename the 'Price' column in either transactions or products before merging\n",
        "transactions = transactions.rename(columns={'Price': 'TransactionPrice'})\n",
        "\n",
        "# Now perform the merge\n",
        "transactions = transactions.merge(products, on=\"ProductID\", how=\"left\")"
      ],
      "metadata": {
        "id": "awm3xCHTbAtm"
      },
      "execution_count": 10,
      "outputs": []
    },
    {
      "cell_type": "markdown",
      "source": [
        "Aggregate customer behavioral features"
      ],
      "metadata": {
        "id": "OcrjmRg0bILF"
      }
    },
    {
      "cell_type": "code",
      "source": [
        "customer_behavior = transactions.groupby(\"CustomerID\").agg({\n",
        "    \"TotalValue\": \"sum\",  # Total spending\n",
        "    \"ProductID\": \"nunique\",  # Unique products purchased\n",
        "    \"Category\": lambda x: x.mode()[0]  # Most purchased category\n",
        "}).rename(columns={\"TotalValue\": \"TotalSpending\", \"ProductID\": \"UniqueProducts\"})"
      ],
      "metadata": {
        "id": "agy2rWbebDCe"
      },
      "execution_count": 11,
      "outputs": []
    },
    {
      "cell_type": "code",
      "source": [
        "customers = customers.set_index(\"CustomerID\").join(customer_behavior)"
      ],
      "metadata": {
        "id": "uCoqrqF4bLjN"
      },
      "execution_count": 12,
      "outputs": []
    },
    {
      "cell_type": "markdown",
      "source": [
        "Feature Engineering"
      ],
      "metadata": {
        "id": "8QSkuvyRdTD9"
      }
    },
    {
      "cell_type": "code",
      "source": [
        "customers[\"Region\"] = customers[\"Region\"].astype(\"category\").cat.codes\n",
        "customers[\"SignupDays\"] = (pd.to_datetime(\"2025-01-01\") - pd.to_datetime(customers[\"SignupDate\"])).dt.days\n",
        "customers = customers.drop(columns=[\"SignupDate\", \"CustomerName\"])"
      ],
      "metadata": {
        "id": "r2_mUvsUbPJG"
      },
      "execution_count": 13,
      "outputs": []
    },
    {
      "cell_type": "markdown",
      "source": [
        " Normalized features"
      ],
      "metadata": {
        "id": "pUhOdC3_dIga"
      }
    },
    {
      "cell_type": "code",
      "source": [
        "# Assuming 'Category' is the only non-numeric column\n",
        "numerical_features = customers.select_dtypes(include=['number'])\n",
        "\n",
        "# Now apply StandardScaler only to numerical features\n",
        "scaler = StandardScaler()\n",
        "normalized_features = scaler.fit_transform(numerical_features.fillna(0))"
      ],
      "metadata": {
        "id": "CYmwRp7zbcfm"
      },
      "execution_count": 15,
      "outputs": []
    },
    {
      "cell_type": "markdown",
      "source": [
        "Computing similarity"
      ],
      "metadata": {
        "id": "7fb3n_T4dEhB"
      }
    },
    {
      "cell_type": "code",
      "source": [
        "similarity_matrix = cosine_similarity(normalized_features)"
      ],
      "metadata": {
        "id": "TFbvrxPPbmIl"
      },
      "execution_count": 16,
      "outputs": []
    },
    {
      "cell_type": "markdown",
      "source": [
        "lookalike recommendations"
      ],
      "metadata": {
        "id": "mvwdxl5DdDdw"
      }
    },
    {
      "cell_type": "code",
      "source": [
        "lookalike_mapping = {}\n",
        "for i, customer_id in enumerate(customers.index[:20]):  # For first 20 customers\n",
        "    similar_indices = similarity_matrix[i].argsort()[::-1][1:4]  # Top 3 similar customers\n",
        "    similar_scores = similarity_matrix[i][similar_indices]\n",
        "    lookalike_mapping[customer_id] = [\n",
        "        {\"CustomerID\": customers.index[j], \"Score\": similar_scores[k]}\n",
        "        for k, j in enumerate(similar_indices)\n",
        "    ]"
      ],
      "metadata": {
        "id": "5ncAhhbwbo5W"
      },
      "execution_count": 17,
      "outputs": []
    },
    {
      "cell_type": "code",
      "source": [
        "# Flatten the lookalike data into a list of rows\n",
        "lookalike_rows = []\n",
        "for cust_id, lookalikes in lookalike_mapping.items():\n",
        "    row = {\"CustomerID\": cust_id}\n",
        "    for k, item in enumerate(lookalikes):\n",
        "        row[f\"Lookalike{k+1}\"] = item[\"CustomerID\"]\n",
        "        row[f\"Score{k+1}\"] = item[\"Score\"]\n",
        "    lookalike_rows.append(row)\n",
        "\n",
        "# Create the DataFrame\n",
        "lookalike_df = pd.DataFrame(lookalike_rows)\n",
        "\n",
        "# Save to CSV\n",
        "lookalike_df.to_csv(\"Lookalike.csv\", index=False)\n"
      ],
      "metadata": {
        "id": "dMsBjB4KcqhV"
      },
      "execution_count": 25,
      "outputs": []
    }
  ]
}